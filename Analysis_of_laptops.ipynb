{
 "cells": [
  {
   "cell_type": "markdown",
   "id": "27edf349",
   "metadata": {},
   "source": [
    "### Information about dataset"
   ]
  },
  {
   "cell_type": "markdown",
   "id": "ff8b66cf",
   "metadata": {},
   "source": [
    "Laptop is a portable computer with an LCD display that can be used wherever you are. With the advance of technology, laptops are available with different sizes, parameters and capacity. I  focused on the analysis of the dataset containing information about the laptop in 12 categories:\n",
    "1. Company- String -Laptop Manufacturer\n",
    "2. Product -String -Brand and Model\n",
    "3. TypeName -String -Type (Notebook, Ultrabook, Gaming, etc.)\n",
    "4. Inches -Numeric- Screen Size\n",
    "5. ScreenResolution -String- Screen Resolution\n",
    "6. Cpu- String -Central Processing Unit (CPU)\n",
    "7. Ram -String- Laptop RAM\n",
    "8. Memory -String- Hard Disk / SSD Memory\n",
    "9. GPU -String- Graphics Processing Units (GPU)\n",
    "10. OpSys -String- Operating System\n",
    "11. Weight -String- Laptop Weight\n",
    "12. Price_euros - Numeric- Price (Euro)\n",
    "\n",
    "\n",
    "\n",
    "The data was downloaded from the website https://www.kaggle.com/datasets/muhammetvarl/laptop-price in the form of csv."
   ]
  },
  {
   "cell_type": "code",
   "execution_count": null,
   "id": "c6902e56",
   "metadata": {},
   "outputs": [],
   "source": [
    "import matplotlib.pyplot as plt\n",
    "import numpy as np\n",
    "import pandas as pd\n",
    "import seaborn as sns\n",
    "from scipy.stats import kurtosis, norm, skew\n",
    "\n",
    "\n",
    "df = pd.read_csv('c:\Users\jolaz\OneDrive\Pulpit\Github\laptop_price.csv', encoding='latin-1', index_col =\"laptop_ID\")\n",
    "df.head()"
   ]
  },
  {
   "cell_type": "markdown",
   "id": "80b93acf",
   "metadata": {},
   "source": [
    "### Converting the data type of the \"Weight\" and \"Ram\" columns from object to numeric"
   ]
  },
  {
   "cell_type": "code",
   "execution_count": null,
   "id": "1a38f94a",
   "metadata": {},
   "outputs": [],
   "source": [
    "df['Weight'] = df['Weight'].str.replace('kg', '')\n",
    "df['Weight'] = pd.to_numeric(df['Weight'])\n",
    "df['Ram'] = df['Ram'].str.replace('GB', '')\n",
    "df['Ram'] = pd.to_numeric(df['Ram'])\n",
    "df.rename(columns={'Ram':'Ram (GB)', 'Weight':'Weight (kg)'}, inplace=True)\n",
    "df.head()"
   ]
  },
  {
   "cell_type": "markdown",
   "id": "95a49557",
   "metadata": {},
   "source": [
    "### Shape of the dataset"
   ]
  },
  {
   "cell_type": "code",
   "execution_count": null,
   "id": "79228053",
   "metadata": {},
   "outputs": [],
   "source": [
    "df.shape"
   ]
  },
  {
   "cell_type": "markdown",
   "id": "ac5bb50e",
   "metadata": {},
   "source": [
    "### Checking information about dataset"
   ]
  },
  {
   "cell_type": "code",
   "execution_count": null,
   "id": "95a3abca",
   "metadata": {},
   "outputs": [],
   "source": [
    "df.info()"
   ]
  },
  {
   "cell_type": "code",
   "execution_count": null,
   "id": "1027ede9",
   "metadata": {},
   "outputs": [],
   "source": [
    "df.describe()"
   ]
  },
  {
   "cell_type": "markdown",
   "id": "efa53b1a",
   "metadata": {},
   "source": [
    "### Checking if there is any null value present in the dataset or not?"
   ]
  },
  {
   "cell_type": "code",
   "execution_count": null,
   "id": "382a74f3",
   "metadata": {},
   "outputs": [],
   "source": [
    "df.isnull().sum()"
   ]
  },
  {
   "cell_type": "markdown",
   "id": "6756884c",
   "metadata": {},
   "source": [
    "### Barplot for number on company(count)\n"
   ]
  },
  {
   "cell_type": "code",
   "execution_count": null,
   "id": "98411967",
   "metadata": {},
   "outputs": [],
   "source": [
    "plt.figure(figsize = (20, 6))\n",
    "ax = df.Company.value_counts().plot(kind = 'bar', color = 'blue', rot=0)\n",
    "\n",
    "for p in ax.patches:\n",
    "    ax.annotate(int(p.get_height()), (p.get_x() + 0.25, p.get_height() + 1), ha = 'center', va = 'bottom', color = 'black')"
   ]
  },
  {
   "cell_type": "markdown",
   "id": "483d08e4",
   "metadata": {},
   "source": [
    "### Barplot for 25 top product title(count) "
   ]
  },
  {
   "cell_type": "code",
   "execution_count": null,
   "id": "9825149b",
   "metadata": {},
   "outputs": [],
   "source": [
    "plt.figure(figsize = (20, 5))\n",
    "ax = df[\"Product\"].value_counts()[:25].plot(kind = 'bar',\n",
    "                                              color = \"red\")\n",
    "\n",
    "for p in ax.patches:\n",
    "    ax.annotate(int(p.get_height()), (p.get_x() + 0.25, p.get_height() + 1), ha = 'center', va = 'bottom', color = 'black')"
   ]
  },
  {
   "cell_type": "markdown",
   "id": "59dd2f5e",
   "metadata": {},
   "source": [
    "### Barplot for number od type(count)"
   ]
  },
  {
   "cell_type": "code",
   "execution_count": null,
   "id": "ff36319f",
   "metadata": {},
   "outputs": [],
   "source": [
    "plt.figure(figsize = (20, 6))\n",
    "ax = df.TypeName.value_counts().plot(kind = 'bar', color = 'green', rot=0)\n",
    "\n",
    "for p in ax.patches:\n",
    "    ax.annotate(int(p.get_height()), (p.get_x() + 0.25, p.get_height() + 1), ha = 'center', va = 'bottom', color = 'black')"
   ]
  },
  {
   "cell_type": "markdown",
   "id": "ead8a40e",
   "metadata": {},
   "source": [
    "### Histogram on Inches"
   ]
  },
  {
   "cell_type": "code",
   "execution_count": null,
   "id": "b5787678",
   "metadata": {},
   "outputs": [],
   "source": [
    "plt.figure(figsize = (20, 5))\n",
    "df['Inches'].hist(bins = 15)\n",
    "plt.show()"
   ]
  },
  {
   "cell_type": "markdown",
   "id": "3d8af936",
   "metadata": {},
   "source": [
    "### Barplot for number on ScreenResolution (count)"
   ]
  },
  {
   "cell_type": "code",
   "execution_count": null,
   "id": "404f07c4",
   "metadata": {},
   "outputs": [],
   "source": [
    "plt.figure(figsize = (20, 6))\n",
    "ax = df.ScreenResolution.value_counts()[:10].plot(kind = 'bar', color = 'yellow')\n",
    "\n",
    "for p in ax.patches:\n",
    "    ax.annotate(int(p.get_height()), (p.get_x() + 0.25, p.get_height() + 1), ha = 'center', va = 'bottom', color = 'black')"
   ]
  },
  {
   "cell_type": "markdown",
   "id": "5fc95609",
   "metadata": {},
   "source": [
    "### Barplot for 25 top Cpu (count)"
   ]
  },
  {
   "cell_type": "code",
   "execution_count": null,
   "id": "33516041",
   "metadata": {},
   "outputs": [],
   "source": [
    "plt.figure(figsize = (20, 6))\n",
    "ax = df.Cpu.value_counts()[:25].plot(kind = 'bar', color = 'orange')\n",
    "\n",
    "for p in ax.patches:\n",
    "    ax.annotate(int(p.get_height()), (p.get_x() + 0.25, p.get_height() + 1), ha = 'center', va = 'bottom', color = 'black')"
   ]
  },
  {
   "cell_type": "markdown",
   "id": "a0fd4283",
   "metadata": {},
   "source": [
    "### Histogram for RAM "
   ]
  },
  {
   "cell_type": "code",
   "execution_count": null,
   "id": "116e0b4d",
   "metadata": {},
   "outputs": [],
   "source": [
    "plt.figure(figsize = (20, 5))\n",
    "df['Ram (GB)'].hist(bins = 25)\n",
    "plt.show()"
   ]
  },
  {
   "cell_type": "markdown",
   "id": "5c9e69dc",
   "metadata": {},
   "source": [
    "### Barplot for  Memory (count)\n"
   ]
  },
  {
   "cell_type": "code",
   "execution_count": null,
   "id": "bd2eac38",
   "metadata": {},
   "outputs": [],
   "source": [
    "plt.figure(figsize = (20, 6))\n",
    "s=df['Memory'].value_counts()\n",
    "s.groupby(np.where(s>=7,s.index,'other')).sum().plot(kind='bar')\n",
    "plt.show()"
   ]
  },
  {
   "cell_type": "markdown",
   "id": "320b8054",
   "metadata": {},
   "source": [
    "### Barplot for Gpu (count)"
   ]
  },
  {
   "cell_type": "code",
   "execution_count": null,
   "id": "e6c56321",
   "metadata": {},
   "outputs": [],
   "source": [
    "plt.figure(figsize = (20, 6))\n",
    "s=df['Gpu'].value_counts()\n",
    "s.groupby(np.where(s>=10,s.index,'other')).sum().plot(kind='bar')\n",
    "plt.show()"
   ]
  },
  {
   "cell_type": "markdown",
   "id": "a3fcf29c",
   "metadata": {},
   "source": [
    "### Barplot for OpSys"
   ]
  },
  {
   "cell_type": "code",
   "execution_count": null,
   "id": "4896b674",
   "metadata": {},
   "outputs": [],
   "source": [
    "plt.figure(figsize = (20, 6))\n",
    "ax = df.OpSys.value_counts().plot(kind = 'bar', color = '#6D8B74')\n",
    "\n",
    "for p in ax.patches:\n",
    "    ax.annotate(int(p.get_height()), (p.get_x() + 0.25, p.get_height() + 1), ha = 'center', va = 'bottom', color = 'black')"
   ]
  },
  {
   "cell_type": "markdown",
   "id": "ed8ea211",
   "metadata": {},
   "source": [
    "### Histogram for  weight"
   ]
  },
  {
   "cell_type": "code",
   "execution_count": null,
   "id": "914e5c36",
   "metadata": {},
   "outputs": [],
   "source": [
    "plt.figure(figsize = (20, 5))\n",
    "df[\"Weight (kg)\"].hist(bins = 15)\n",
    "plt.show()"
   ]
  },
  {
   "cell_type": "markdown",
   "id": "e9e254f2",
   "metadata": {},
   "source": [
    "### Histogram for price in Euros"
   ]
  },
  {
   "cell_type": "code",
   "execution_count": null,
   "id": "11aee595",
   "metadata": {},
   "outputs": [],
   "source": [
    "plt.figure(figsize = (20, 5))\n",
    "df[\"Price_euros\"].hist(bins = 20)\n",
    "plt.show()"
   ]
  },
  {
   "cell_type": "code",
   "execution_count": null,
   "id": "90dbe4c3",
   "metadata": {},
   "outputs": [],
   "source": [
    "print( 'Mean: {}'.format(np.mean(df[\"Price_euros\"])))\n",
    "print( 'Median: {}'.format(np.median(df[\"Price_euros\"])))\n",
    "print( 'Variance : {}'.format(np.var(df[\"Price_euros\"])))\n",
    "print( 'Skewness : {}'.format(skew(df[\"Price_euros\"])))\n",
    "print( 'Excess kurtosis  {}'.format(kurtosis(df[\"Price_euros\"]))) "
   ]
  },
  {
   "cell_type": "code",
   "execution_count": null,
   "id": "a27a7280",
   "metadata": {
    "scrolled": true
   },
   "outputs": [],
   "source": [
    "p= df[\"Price_euros\"]\n",
    "fig, axes = plt.subplots(1,2, figsize=(15,5))\n",
    "fig.suptitle('Price in Euros for laptop', fontsize=20)\n",
    "axes[0].boxplot(p)\n",
    "axes[1].violinplot(p)\n",
    "plt.show()\n"
   ]
  },
  {
   "cell_type": "markdown",
   "id": "0068a27a",
   "metadata": {},
   "source": [
    "*The median is about 1000 Euros, the largest number of laptops is sold for about 800 Euros. There is quite a lot number of outliers. The price range is around 200-6000 Euros.*"
   ]
  },
  {
   "cell_type": "code",
   "execution_count": null,
   "id": "09ee6038",
   "metadata": {},
   "outputs": [],
   "source": [
    "i= df[\"Inches\"]\n",
    "fig, axes = plt.subplots(1,2, figsize=(20,8))\n",
    "fig.suptitle('Size of laptop in inches', fontsize=20)\n",
    "axes[0].boxplot(i)\n",
    "axes[1].violinplot(i)\n",
    "plt.show()"
   ]
  },
  {
   "cell_type": "markdown",
   "id": "701cad51",
   "metadata": {},
   "source": [
    "*The median is almost 16 inches and most laptops are of this size as well. Outliers make a small contribution to the results.*\n"
   ]
  },
  {
   "cell_type": "code",
   "execution_count": null,
   "id": "da98d5ad",
   "metadata": {},
   "outputs": [],
   "source": [
    "r= df[\"Ram (GB)\"]\n",
    "fig, axes = plt.subplots(1,2, figsize=(20,8))\n",
    "fig.suptitle(' Random Access Memory RAM', fontsize=20)\n",
    "axes[0].boxplot(r)\n",
    "axes[1].violinplot(r)\n",
    "plt.show()"
   ]
  },
  {
   "cell_type": "markdown",
   "id": "a1104c55",
   "metadata": {},
   "source": [
    "*The median is 8GB and this is the most common value of RAM. There are only a few cases of outliers. Due to the fact that most of the results are close to the median, the interquartile range is small.*"
   ]
  },
  {
   "cell_type": "code",
   "execution_count": null,
   "id": "8cc4a0f2",
   "metadata": {},
   "outputs": [],
   "source": [
    "w= df[\"Weight (kg)\"]\n",
    "fig, axes = plt.subplots(1,2, figsize=(20,8))\n",
    "fig.suptitle('Weight of laptop', fontsize=20)\n",
    "axes[0].boxplot(w)\n",
    "axes[1].violinplot(w)\n",
    "plt.show()"
   ]
  },
  {
   "cell_type": "markdown",
   "id": "8d7dbe73",
   "metadata": {},
   "source": [
    "*The median is slightly above 2 kg, the interquartile range is large, ranging from 1.5 kg to 2.5 kg. There are many outliers above 3.5kg.*\n"
   ]
  },
  {
   "cell_type": "markdown",
   "id": "f898ec85",
   "metadata": {},
   "source": [
    "# Summary\n"
   ]
  },
  {
   "cell_type": "markdown",
   "id": "3b14e879",
   "metadata": {},
   "source": [
    "**Based on the above analysis, we can conclude that the most models of laptops are manufactured by companies such as Dell and Lenovo.  \n",
    "The most popular is Notebook with a size of almost 16 inches and a Ram with a capacity of 8GB. \n",
    "On the other hand, if we take into account the memory, laptops with 256GB memory win the ranking. \n",
    "The results in the categories of Gpu and Cpu are very different. Over 80% of laptops use the Windows 10 operating system.\n",
    "If we focus on the price, the median is around 1,000 euros and the average price is slightly above 1,100 euros. The price range is from 200 to 6000 Euros.**"
   ]
  }
 ],
 "metadata": {
  "kernelspec": {
   "display_name": "Python 3 (ipykernel)",
   "language": "python",
   "name": "python3"
  },
  "language_info": {
   "codemirror_mode": {
    "name": "ipython",
    "version": 3
   },
   "file_extension": ".py",
   "mimetype": "text/x-python",
   "name": "python",
   "nbconvert_exporter": "python",
   "pygments_lexer": "ipython3",
   "version": "3.9.7"
  }
 },
 "nbformat": 4,
 "nbformat_minor": 5
}
